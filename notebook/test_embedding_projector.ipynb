{
 "cells": [
  {
   "cell_type": "markdown",
   "metadata": {},
   "source": [
    "# TenserBoardのEmbedding Projectorの動作確認"
   ]
  },
  {
   "cell_type": "code",
   "execution_count": null,
   "metadata": {
    "scrolled": true
   },
   "outputs": [],
   "source": [
    "import codecs\n",
    "import numpy as np\n",
    "import os\n",
    "import tensorflow as tf\n",
    "import time\n",
    "from bert_serving.server.helper import get_args_parser\n",
    "from bert_serving.server.helper import get_shutdown_parser\n",
    "from bert_serving.server import BertServer\n",
    "from bert_serving.client import BertClient\n",
    "from tensorflow.contrib.tensorboard.plugins import projector"
   ]
  },
  {
   "cell_type": "code",
   "execution_count": null,
   "metadata": {},
   "outputs": [],
   "source": [
    "DATA_DIR = '/app/data'\n",
    "LOGS_DIR = '/app/logs'\n",
    "TMP_DIR = '/app/tmp'\n",
    "NUM_FEATURES = 768"
   ]
  },
  {
   "cell_type": "markdown",
   "metadata": {},
   "source": [
    "## データを入力"
   ]
  },
  {
   "cell_type": "code",
   "execution_count": null,
   "metadata": {},
   "outputs": [],
   "source": [
    "text_path = os.path.join(DATA_DIR, 'text.txt')\n",
    "texts = []\n",
    "with codecs.open(text_path, 'r', 'utf-8') as fin:\n",
    "    for text in fin:\n",
    "        text = text.strip().replace('\\u3000', ' ')\n",
    "        texts.append(text)\n",
    "\n",
    "label_path = os.path.join(DATA_DIR, 'label.txt')\n",
    "labels = []\n",
    "with codecs.open(label_path, 'r', 'utf-8') as fin:\n",
    "    for label in fin:\n",
    "        label = label.strip()\n",
    "        labels.append(label)"
   ]
  },
  {
   "cell_type": "markdown",
   "metadata": {},
   "source": [
    "## 文書ベクトルを取得"
   ]
  },
  {
   "cell_type": "markdown",
   "metadata": {},
   "source": [
    "### サーバを起動"
   ]
  },
  {
   "cell_type": "code",
   "execution_count": null,
   "metadata": {
    "scrolled": true
   },
   "outputs": [],
   "source": [
    "os.environ['ZEROMQ_SOCK_TMP_DIR'] = '/app/tmp'\n",
    "args = get_args_parser().parse_args([\n",
    "    '-model_dir', '/app/model',\n",
    "    '-ckpt_name', 'model.ckpt-1400000',\n",
    "    '-config_name', 'bert-wiki-ja_config.json',\n",
    "    '-graph_tmp_dir', '/app/tmp',\n",
    "    '-port', '5555',\n",
    "    '-port_out', '5556',\n",
    "    '-max_seq_len', 'NONE',\n",
    "    '-num_worker', '1',\n",
    "    '-cpu',\n",
    "    '-show_tokens_to_client',\n",
    "])\n",
    "server = BertServer(args)\n",
    "server.start()\n",
    "\n",
    "print('wait until server is ready...')\n",
    "time.sleep(20)"
   ]
  },
  {
   "cell_type": "markdown",
   "metadata": {},
   "source": [
    "### 文書ベクトルを取得"
   ]
  },
  {
   "cell_type": "code",
   "execution_count": null,
   "metadata": {
    "scrolled": true
   },
   "outputs": [],
   "source": [
    "vectors = np.zeros((len(texts), NUM_FEATURES), dtype=\"float32\")\n",
    "bc = BertClient()\n",
    "for idx, text in enumerate(texts):\n",
    "    result = bc.encode([text], show_tokens=True)\n",
    "    vectors[idx] = result[0][0]\n",
    "    print(idx)\n",
    "bc.close()"
   ]
  },
  {
   "cell_type": "code",
   "execution_count": null,
   "metadata": {},
   "outputs": [],
   "source": [
    "embeddings = tf.Variable(vectors, name='embeddings')"
   ]
  },
  {
   "cell_type": "markdown",
   "metadata": {},
   "source": [
    "### サーバを停止"
   ]
  },
  {
   "cell_type": "code",
   "execution_count": null,
   "metadata": {},
   "outputs": [],
   "source": [
    "server.close()"
   ]
  },
  {
   "cell_type": "markdown",
   "metadata": {},
   "source": [
    "## ラベル・ファイルを生成"
   ]
  },
  {
   "cell_type": "code",
   "execution_count": null,
   "metadata": {},
   "outputs": [],
   "source": [
    "metadata = os.path.join(LOGS_DIR, 'metadata.tsv')\n",
    "with codecs.open(metadata, 'w', 'utf-8') as metadata_file:\n",
    "    for row in labels:\n",
    "        metadata_file.write('{}\\n'.format(row))"
   ]
  },
  {
   "cell_type": "markdown",
   "metadata": {},
   "source": [
    "## データを出力"
   ]
  },
  {
   "cell_type": "code",
   "execution_count": null,
   "metadata": {},
   "outputs": [],
   "source": [
    "with tf.Session() as sess:\n",
    "    saver = tf.train.Saver([embeddings])\n",
    "\n",
    "    sess.run(embeddings.initializer)\n",
    "    saver.save(sess, os.path.join(LOGS_DIR, 'embeddings.ckpt'))\n",
    "\n",
    "    config = projector.ProjectorConfig()\n",
    "    # One can add multiple embeddings.\n",
    "    embedding = config.embeddings.add()\n",
    "    embedding.tensor_name = embeddings.name\n",
    "    # Link this tensor to its metadata file (e.g. labels).\n",
    "    embedding.metadata_path = metadata\n",
    "    # Saves a config file that TensorBoard will read during startup.\n",
    "    projector.visualize_embeddings(tf.summary.FileWriter(LOGS_DIR), config)"
   ]
  },
  {
   "cell_type": "markdown",
   "metadata": {},
   "source": [
    "## 以降の手順\n",
    "\n",
    "### File -> New -> Terminal で新しいターミナルを起動して下記コマンドを実行\n",
    "\n",
    "```bash\n",
    "/app/run_tensorboard.sh\n",
    "```\n",
    "\n",
    "### \"TensorBoard 1.14.0 at … (Press CTRL+C to quit)\"というメッセージが表示されたらTensorBoardを開く\n",
    "\n",
    "http://localhost:6006/#projector&run=."
   ]
  }
 ],
 "metadata": {
  "kernelspec": {
   "display_name": "Python 3",
   "language": "python",
   "name": "python3"
  },
  "language_info": {
   "codemirror_mode": {
    "name": "ipython",
    "version": 3
   },
   "file_extension": ".py",
   "mimetype": "text/x-python",
   "name": "python",
   "nbconvert_exporter": "python",
   "pygments_lexer": "ipython3",
   "version": "3.6.8"
  }
 },
 "nbformat": 4,
 "nbformat_minor": 4
}
